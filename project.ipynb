{
 "cells": [
  {
   "cell_type": "markdown",
   "metadata": {
    "collapsed": true,
    "pycharm": {
     "name": "#%% md\n"
    }
   },
   "source": [
    "# CS 537 Final Project\n",
    "\n",
    "## Zigeng Zhu"
   ]
  },
  {
   "cell_type": "code",
   "execution_count": 4,
   "outputs": [],
   "source": [
    "import os\n",
    "import numpy as np\n",
    "from yolo_detector import YoloV3Detector, YoloV5Detector\n",
    "import matplotlib.pyplot as plt\n",
    "from detect import DetectionSystem\n",
    "%matplotlib inline"
   ],
   "metadata": {
    "collapsed": false,
    "pycharm": {
     "name": "#%%\n"
    }
   }
  },
  {
   "cell_type": "code",
   "execution_count": 5,
   "outputs": [],
   "source": [
    "mot_16_02 = 'dataset/mot/MOT16-02/img1/'\n",
    "mot_16_04 = 'dataset/mot/MOT16-04/img1/'\n",
    "mot_16_09 = 'dataset/mot/MOT16-09/img1/'"
   ],
   "metadata": {
    "collapsed": false,
    "pycharm": {
     "name": "#%%\n"
    }
   }
  },
  {
   "cell_type": "code",
   "source": [
    "detector = YoloV3Detector(mode='sort')\n",
    "output1 = open('MOT16-02.txt', 'w')\n",
    "output2 = open('MOT16-04.txt', 'w')\n",
    "output3 = open('MOT16-09.txt', 'w')\n",
    "testbench11 = DetectionSystem(detector, mot_16_02, output1, is_video=False, show=False)\n",
    "testbench11.run()\n",
    "testbench12 = DetectionSystem(detector, mot_16_04, output2, is_video=False, show=False)\n",
    "testbench12.run()\n",
    "testbench13 = DetectionSystem(detector, mot_16_09, output3, is_video=False, show=False)\n",
    "testbench13.run()"
   ],
   "metadata": {
    "collapsed": false,
    "pycharm": {
     "name": "#%%\n"
    }
   },
   "execution_count": 7,
   "outputs": []
  },
  {
   "cell_type": "markdown",
   "source": [
    "detector2 = YoloV3Detector(mode='deep_sort')\n",
    "output = None\n",
    "testbench2 = DetectionSystem(detector2, mot_16_04, output, is_video=False, show=False)\n",
    "testbench2.run()"
   ],
   "metadata": {
    "collapsed": false,
    "pycharm": {
     "name": "#%% md\n"
    }
   }
  },
  {
   "cell_type": "markdown",
   "source": [
    "detector3 = YoloV3Detector(mode='sort')\n",
    "output = None\n",
    "testbench3 = DetectionSystem(detector3, mot_16_04, output, is_video=False, show=False)\n",
    "testbench3.run()\n"
   ],
   "metadata": {
    "collapsed": false,
    "pycharm": {
     "name": "#%% md\n"
    }
   }
  },
  {
   "cell_type": "markdown",
   "source": [
    "axis = np.arange(1, 1051, 1)\n",
    "\n",
    "fig, ax = plt.subplots()\n",
    "ax.plot(axis, testbench1.frame_rate, label='IOU')\n",
    "ax.plot(axis, testbench2.frame_rate, label='deep SORT')\n",
    "ax.plot(axis, testbench3.frame_rate, label='SORT')\n",
    "ax.set_xlabel('Frame#')\n",
    "ax.set_ylabel('Frame Rate')\n",
    "ax.set_title('Frame Rate Evaluation')\n",
    "ax.legend()\n",
    "fig.show()\n",
    "fig.savefig('framerate.png')"
   ],
   "metadata": {
    "collapsed": false,
    "pycharm": {
     "name": "#%% md\n"
    }
   }
  },
  {
   "cell_type": "markdown",
   "source": [
    "axis = np.arange(10, 1051, 1)\n",
    "fig, ax = plt.subplots()\n",
    "ax.plot(axis, testbench1.frame_processing_time[9:], label='IOU')\n",
    "ax.plot(axis, testbench2.frame_processing_time[9:], label='deep SORT')\n",
    "ax.plot(axis, testbench3.frame_processing_time[9:], label='SORT')\n",
    "ax.set_xlabel('Frame#')\n",
    "ax.set_ylabel('Frame Processing Time')\n",
    "ax.set_title('Frame Processing Time')\n",
    "ax.legend()\n",
    "fig.show()\n",
    "fig.savefig('frametime.png')"
   ],
   "metadata": {
    "collapsed": false,
    "pycharm": {
     "name": "#%% md\n"
    }
   }
  }
 ],
 "metadata": {
  "kernelspec": {
   "display_name": "Python 3",
   "language": "python",
   "name": "python3"
  },
  "language_info": {
   "codemirror_mode": {
    "name": "ipython",
    "version": 2
   },
   "file_extension": ".py",
   "mimetype": "text/x-python",
   "name": "python",
   "nbconvert_exporter": "python",
   "pygments_lexer": "ipython2",
   "version": "2.7.6"
  }
 },
 "nbformat": 4,
 "nbformat_minor": 0
}